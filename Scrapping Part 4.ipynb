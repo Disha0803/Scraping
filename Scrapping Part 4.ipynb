{
 "cells": [
  {
   "cell_type": "code",
   "execution_count": 24,
   "id": "1fd52192",
   "metadata": {},
   "outputs": [],
   "source": [
    "#importing basic libraries required\n",
    "from bs4 import BeautifulSoup\n",
    "import requests\n",
    "import pandas as pd\n",
    "import numpy as np\n",
    "from google_play_scraper import app"
   ]
  },
  {
   "cell_type": "code",
   "execution_count": 25,
   "id": "dc9b14d3",
   "metadata": {},
   "outputs": [],
   "source": [
    "#the given url\n",
    "URL = \"https://play.google.com/store/apps/details?id=co.wordupapp.app\""
   ]
  },
  {
   "cell_type": "code",
   "execution_count": 26,
   "id": "3802a08d",
   "metadata": {},
   "outputs": [],
   "source": [
    "#adding user agent\n",
    "HEADERS=({'User-Agent':'Mozilla/5.0 (Windows NT 10.0; Win64; x64) AppleWebKit/537.36 (KHTML, like Gecko) Chrome/111.0.0.0 Safari/537.36','Accept-Language':'en-US, en; q=0.5'})"
   ]
  },
  {
   "cell_type": "code",
   "execution_count": 27,
   "id": "1dd313c6",
   "metadata": {},
   "outputs": [],
   "source": [
    "#http request\n",
    "webpage=requests.get(URL,headers=HEADERS)\n",
    "#creating soup object to contain all the data\n",
    "soup=BeautifulSoup(webpage.content,'html.parser')\n",
    "#declaring a dictionary\n",
    "d={'Name':'','Maker':'','Downloads':'','Rating':'','Review Count':'','Email':'','Similar App':[]}"
   ]
  },
  {
   "cell_type": "code",
   "execution_count": 28,
   "id": "55c8c2fe",
   "metadata": {},
   "outputs": [],
   "source": [
    "#extracting the name of the app using the h1 attribute and class name\n",
    "name=soup.find(\"h1\",attrs={'class':'Fd93Bb F5UCq p5VxAd'}).text #.text is used to extract the string part\n",
    "#Storing the name in dictionary\n",
    "d['Name']=name"
   ]
  },
  {
   "cell_type": "code",
   "execution_count": 29,
   "id": "b0753251",
   "metadata": {},
   "outputs": [
    {
     "data": {
      "text/plain": [
       "'WordUp | AI Vocabulary Builder'"
      ]
     },
     "execution_count": 29,
     "metadata": {},
     "output_type": "execute_result"
    }
   ],
   "source": [
    "#printing the name of the app\n",
    "name"
   ]
  },
  {
   "cell_type": "code",
   "execution_count": 30,
   "id": "d09b14ef",
   "metadata": {},
   "outputs": [],
   "source": [
    "#extracting the developer's name\n",
    "maker=soup.find(\"div\",attrs={'class':'Vbfug auoIOc'}).text\n",
    "#Storing the developer's name in dictionary\n",
    "d['Maker']=maker"
   ]
  },
  {
   "cell_type": "code",
   "execution_count": 31,
   "id": "aafcc34e",
   "metadata": {},
   "outputs": [
    {
     "data": {
      "text/plain": [
       "'Geeks Ltd'"
      ]
     },
     "execution_count": 31,
     "metadata": {},
     "output_type": "execute_result"
    }
   ],
   "source": [
    "#printing the name of the developer\n",
    "maker"
   ]
  },
  {
   "cell_type": "code",
   "execution_count": 32,
   "id": "8af37c53",
   "metadata": {},
   "outputs": [],
   "source": [
    "#extracting the rating of the app\n",
    "rating=soup.find(\"div\",attrs={'class':'ClM7O'}).text\n",
    "#Storing the rating in dictionary\n",
    "d['Rating']=rating"
   ]
  },
  {
   "cell_type": "code",
   "execution_count": 33,
   "id": "5aac2e20",
   "metadata": {},
   "outputs": [
    {
     "data": {
      "text/plain": [
       "'4.6star'"
      ]
     },
     "execution_count": 33,
     "metadata": {},
     "output_type": "execute_result"
    }
   ],
   "source": [
    "#printing the rating of the app\n",
    "rating"
   ]
  },
  {
   "cell_type": "code",
   "execution_count": 34,
   "id": "6d1bf6cf",
   "metadata": {},
   "outputs": [],
   "source": [
    "#to extract just the value of rating\n",
    "rating2=soup.find(\"div\",attrs={'class':'jILTFe'}).text"
   ]
  },
  {
   "cell_type": "code",
   "execution_count": 35,
   "id": "4cfb6514",
   "metadata": {},
   "outputs": [
    {
     "data": {
      "text/plain": [
       "'4.6'"
      ]
     },
     "execution_count": 35,
     "metadata": {},
     "output_type": "execute_result"
    }
   ],
   "source": [
    "rating2"
   ]
  },
  {
   "cell_type": "code",
   "execution_count": 36,
   "id": "93839cbf",
   "metadata": {},
   "outputs": [],
   "source": [
    "#extracting the number of reviews\n",
    "reviews=soup.find(\"div\",attrs={'class':'g1rdde'}).text\n",
    "#Storing the review count in dictionary\n",
    "d['Review Count']=reviews"
   ]
  },
  {
   "cell_type": "code",
   "execution_count": 37,
   "id": "55538972",
   "metadata": {},
   "outputs": [
    {
     "data": {
      "text/plain": [
       "'106K reviews'"
      ]
     },
     "execution_count": 37,
     "metadata": {},
     "output_type": "execute_result"
    }
   ],
   "source": [
    "#printing the review count\n",
    "reviews"
   ]
  },
  {
   "cell_type": "code",
   "execution_count": 38,
   "id": "31c7f50b",
   "metadata": {},
   "outputs": [
    {
     "data": {
      "text/plain": [
       "{'title': 'WordUp | AI Vocabulary Builder',\n",
       " 'description': \"The world’s first AI-based English vocabulary builder app.  If you are serious about your English, you will fall in love with WordUp. It is the smartest way to perfect your English, and learn every word that matters while enjoying the process!\\r\\n\\r\\nWordUp helps you to build a MAP of your KNOWLEDGE. Every word you know, and every word you don't. All 25,000 useful English words are ranked in the order of IMPORTANCE, and USEFULNESS, based on how often they are used in real-world spoken English (extracted from thousands of movies, and TV shows).\\r\\n\\r\\nBy creating your Knowledge Map in WordUp, you constantly discover the most valuable next word to learn that you don't know yet, and focus on learning them in that order. It's the smartest way to spend your time learning!\\r\\n\\r\\nTo actually learn the words that you discover in your Knowledge Map, WordUp gives you everything you need, and more! From word definitions and pictures to tens of entertaining examples from movies, quotes, news, and more. So you get a good feel of how to use each word in context. There are also translations in more than 30 languages including French, Spanish, German, Arabic, Turkish, Persian, ...\\r\\n\\r\\nThe daily reviews then kick in. Like flashcards, the words will come back with games and challenges until you master them. It's called Spaced Repetition, and it's scientifically proven to help memorise them forever!\\r\\n\\r\\nWordUp is unlike any vocabulary builder app you've seen before. It is not another dictionary app, although it can be used as an English dictionary too. \\r\\n\\r\\nWordUp's novel approach to language learning and expanding your vocabulary will leave you feeling confident and empowered. Whether you are new to English, are preparing for an English exam (IELTS, TOEFL, etc), or are a native English speaker, you will find WordUp helpful and entertaining. Just give it a try and see for yourself!\",\n",
       " 'descriptionHTML': 'The world’s first AI-based English vocabulary builder app.  If you are serious about your English, you will fall in love with WordUp. It is the smartest way to perfect your English, and learn every word that matters while enjoying the process!<br><br>WordUp helps you to build a MAP of your KNOWLEDGE. Every word you know, and every word you don&#39;t. All 25,000 useful English words are ranked in the order of IMPORTANCE, and USEFULNESS, based on how often they are used in real-world spoken English (extracted from thousands of movies, and TV shows).<br><br>By creating your Knowledge Map in WordUp, you constantly discover the most valuable next word to learn that you don&#39;t know yet, and focus on learning them in that order. It&#39;s the smartest way to spend your time learning!<br><br>To actually learn the words that you discover in your Knowledge Map, WordUp gives you everything you need, and more! From word definitions and pictures to tens of entertaining examples from movies, quotes, news, and more. So you get a good feel of how to use each word in context. There are also translations in more than 30 languages including French, Spanish, German, Arabic, Turkish, Persian, ...<br><br>The daily reviews then kick in. Like flashcards, the words will come back with games and challenges until you master them. It&#39;s called Spaced Repetition, and it&#39;s scientifically proven to help memorise them forever!<br><br>WordUp is unlike any vocabulary builder app you&#39;ve seen before. It is not another dictionary app, although it can be used as an English dictionary too. <br><br>WordUp&#39;s novel approach to language learning and expanding your vocabulary will leave you feeling confident and empowered. Whether you are new to English, are preparing for an English exam (IELTS, TOEFL, etc), or are a native English speaker, you will find WordUp helpful and entertaining. Just give it a try and see for yourself!',\n",
       " 'summary': 'No 1 English vocabulary builder app. Perfect your English with words that matter',\n",
       " 'installs': '5,000,000+',\n",
       " 'minInstalls': 5000000,\n",
       " 'realInstalls': 5648998,\n",
       " 'score': 4.5724463,\n",
       " 'ratings': 105738,\n",
       " 'reviews': 1393,\n",
       " 'histogram': [6525, 2258, 1505, 9286, 86136],\n",
       " 'price': 0,\n",
       " 'free': True,\n",
       " 'currency': 'USD',\n",
       " 'sale': False,\n",
       " 'saleTime': None,\n",
       " 'originalPrice': None,\n",
       " 'saleText': None,\n",
       " 'offersIAP': True,\n",
       " 'inAppProductPrice': '$6.49 - $189.00 per item',\n",
       " 'developer': 'Geeks Ltd',\n",
       " 'developerId': 'Geeks+Ltd',\n",
       " 'developerEmail': 'support@wordupapp.co',\n",
       " 'developerWebsite': 'https://www.wordupapp.co',\n",
       " 'developerAddress': '6 Sutton Park Road\\nSutton\\nLondon\\nSM1 2GD',\n",
       " 'privacyPolicy': 'https://www.wordupapp.co/terms#privacy',\n",
       " 'genre': 'Education',\n",
       " 'genreId': 'EDUCATION',\n",
       " 'icon': 'https://play-lh.googleusercontent.com/DzXbeKl2puSl9G_Hbzi8wRMRWVW7cxUvr6hMGZOigfabzm5MKEbncrv6QpykGXxyMJ8',\n",
       " 'headerImage': 'https://play-lh.googleusercontent.com/fNNvjp7_-OOzbAhgDEM6YNXQmdaAlaCl_cGTi5dO3HSVb3519yHfyyRGg9GoQ6J2kg',\n",
       " 'screenshots': ['https://play-lh.googleusercontent.com/0o0_8BZDzKb3h_oi4HC_Zo2e62aJ6eAgFYlP-kmlOd4LIGaBbyYvghcZcWtZJ47QCOU',\n",
       "  'https://play-lh.googleusercontent.com/zdUK3MJIS63yuEBYK-9yUpxENeYZIinoFdjd9STBv18V51347H4zxXyios4EFum253LI',\n",
       "  'https://play-lh.googleusercontent.com/gpRI03ZufpxyhZ6RbyDyBmnpVj7sJG-aydTSigDRBke4N9WAy3_NXC2FoPcOAB4u3Q8',\n",
       "  'https://play-lh.googleusercontent.com/DDbSX9wqj8jS8FPmNTIup3KPCYUdd5pPipnTaydRrV28hvUHYZdZFZdhJYMEaf0uvSk',\n",
       "  'https://play-lh.googleusercontent.com/Qka3O3PEi0hSo4N_G_3--AQyOOjdV07ZwNaEtdDNS3SOx9lnkVLtL-D6s5oYFiIlj7bn',\n",
       "  'https://play-lh.googleusercontent.com/JlOI3fJOhekfU9NnqKQbpirD5k-MiPlZNutf1SihrYAdczdB1vfvaLNTo8erxs6aNQ8Z',\n",
       "  'https://play-lh.googleusercontent.com/po8MgPZF3ohjxeYAQJER2gF3qNNfmTPkHWeaT_tECzRHSWFZgE3NIjqWKjNbhmEfk0w',\n",
       "  'https://play-lh.googleusercontent.com/TMlLpEekbTUn6Ffy06wQ2qH5AU0yHRusG2V2ik7DvDiJoiw2q0MEew2z8lAb18JSbs2d',\n",
       "  'https://play-lh.googleusercontent.com/hFmC8Zi6-9IqUVDp81w2r4qoObLy_j5lZH0ueyFr1KX1F-60wsz2zIG3BXTbjBrOwXo',\n",
       "  'https://play-lh.googleusercontent.com/wmalw_oW5M-ke42CjdZ_97oTTh_SfyqpU9OQyHQLnhPr0Ey6doA8ympPVcouUohPVw',\n",
       "  'https://play-lh.googleusercontent.com/GopMrj5tHe1HyT9wYud2HghnJollaJO2ecaBv96fgEkThzFFCgqNWscrcW9tNDIPsn8x',\n",
       "  'https://play-lh.googleusercontent.com/qkNmEvpJmt113-DBk2TF5z9CdHw3dyeJ58sBMuKJQm71Bg7WPpkp6juBPLywtd6UHIk',\n",
       "  'https://play-lh.googleusercontent.com/CiADBMBibSPeYoKCHSesy70v4VvO8tl6kJjilkif4GZOoQgALMYUjImFOGMJHxGgays',\n",
       "  'https://play-lh.googleusercontent.com/Hj3ScF0vhV45Cj-1NH8cCGjeKQw3xY3QN1dhdCcxZ7w0rejabyqMT_E83zhb-2TmBoo'],\n",
       " 'video': 'https://www.youtube.com/embed/SRga2BRW_A8?ps=play&vq=large&rel=0&autohide=1&showinfo=0',\n",
       " 'videoImage': 'https://play-lh.googleusercontent.com/fNNvjp7_-OOzbAhgDEM6YNXQmdaAlaCl_cGTi5dO3HSVb3519yHfyyRGg9GoQ6J2kg',\n",
       " 'contentRating': 'Everyone',\n",
       " 'contentRatingDescription': None,\n",
       " 'adSupported': True,\n",
       " 'containsAds': True,\n",
       " 'released': 'Feb 14, 2019',\n",
       " 'updated': 1679514390,\n",
       " 'version': '13.2.827',\n",
       " 'comments': [],\n",
       " 'appId': 'co.wordupapp.app',\n",
       " 'url': 'https://play.google.com/store/apps/details?id=co.wordupapp.app&hl=en&gl=us'}"
      ]
     },
     "execution_count": 38,
     "metadata": {},
     "output_type": "execute_result"
    }
   ],
   "source": [
    "#to check if any email is present in the description\n",
    "result=app('co.wordupapp.app', lang='en',country='us')#the app function is used to view the detailed information of the app\n",
    "result"
   ]
  },
  {
   "cell_type": "code",
   "execution_count": 39,
   "id": "316c2d73",
   "metadata": {},
   "outputs": [
    {
     "data": {
      "text/plain": [
       "'support@wordupapp.co'"
      ]
     },
     "execution_count": 39,
     "metadata": {},
     "output_type": "execute_result"
    }
   ],
   "source": [
    "#extracting and printing the email\n",
    "makermail=result.get('developerEmail')\n",
    "#Storing the email in dictionary\n",
    "d['Email']=makermail\n",
    "makermail"
   ]
  },
  {
   "cell_type": "code",
   "execution_count": 40,
   "id": "d7bf5069",
   "metadata": {},
   "outputs": [
    {
     "name": "stdout",
     "output_type": "stream",
     "text": [
      "5,000,000+\n",
      "5000000\n",
      "5648998\n"
     ]
    }
   ],
   "source": [
    "#extracting the total number of downloads\n",
    "install=result.get('installs')#approximated downloads\n",
    "print(install)\n",
    "mininstall=result.get('minInstalls')\n",
    "print(mininstall)\n",
    "realinstall=result.get('realInstalls')#real number of downloads\n",
    "print(realinstall)"
   ]
  },
  {
   "cell_type": "code",
   "execution_count": 41,
   "id": "8ba481de",
   "metadata": {},
   "outputs": [],
   "source": [
    "#Storing the number of downloads in dictionary\n",
    "d['Downloads']=install"
   ]
  },
  {
   "cell_type": "code",
   "execution_count": 42,
   "id": "08335d88",
   "metadata": {},
   "outputs": [],
   "source": [
    "#extracting the similar app links using the anchor tag and it's class name\n",
    "links=soup.find_all(\"a\",attrs={'class':'Si6A0c nT2RTe'})\n",
    "#Intialising 2 lists\n",
    "li=[] #to store the basic fetched links\n",
    "list_sim_app=[] #to store the complete links"
   ]
  },
  {
   "cell_type": "code",
   "execution_count": 43,
   "id": "66f9f5ac",
   "metadata": {},
   "outputs": [],
   "source": [
    "#fetching the basic links using the .get('href') function\n",
    "for i in links:\n",
    "    li.append(i.get('href'))"
   ]
  },
  {
   "cell_type": "code",
   "execution_count": 44,
   "id": "ffb9fc44",
   "metadata": {},
   "outputs": [],
   "source": [
    "#storing the complete link in the list\n",
    "for i in li:\n",
    "    list_sim_app.append(\"https://play.google.com\"+i)     \n",
    "list_sim_app\n",
    "for i in list_sim_app:\n",
    "    d['Similar App'].append(i)"
   ]
  },
  {
   "cell_type": "code",
   "execution_count": 45,
   "id": "c328949d",
   "metadata": {},
   "outputs": [
    {
     "data": {
      "text/plain": [
       "{'Name': 'WordUp | AI Vocabulary Builder',\n",
       " 'Maker': 'Geeks Ltd',\n",
       " 'Downloads': '5,000,000+',\n",
       " 'Rating': '4.6star',\n",
       " 'Review Count': '106K reviews',\n",
       " 'Email': 'support@wordupapp.co',\n",
       " 'Similar App': ['https://play.google.com/store/apps/details?id=com.knudge.me',\n",
       "  'https://play.google.com/store/apps/details?id=com.duocards.app',\n",
       "  'https://play.google.com/store/apps/details?id=com.vocabulary.wordoftheday',\n",
       "  'https://play.google.com/store/apps/details?id=com.hellotalk.hellowords',\n",
       "  'https://play.google.com/store/apps/details?id=com.gorki.mario.skyeystudio.worddio',\n",
       "  'https://play.google.com/store/apps/details?id=com.fluentflix.fluentu']}"
      ]
     },
     "execution_count": 45,
     "metadata": {},
     "output_type": "execute_result"
    }
   ],
   "source": [
    "d"
   ]
  },
  {
   "cell_type": "code",
   "execution_count": 46,
   "id": "cf53033b",
   "metadata": {},
   "outputs": [],
   "source": [
    "data=pd.DataFrame.from_dict(d)\n",
    "data.to_csv(\"Scraped_data4.csv\",header=True,index=False)"
   ]
  },
  {
   "cell_type": "code",
   "execution_count": 47,
   "id": "8e760018",
   "metadata": {},
   "outputs": [
    {
     "data": {
      "text/plain": [
       "['Tashu Sharmamore_vert Flag inappropriateShow review historyDecember 24, 2022Hey! It was all fine before the new update. Now I can\\'t login into the app. Can you guys help me? Each time I try to login it keeps showing the the text \"Only the original thread that created a view hierarchy can touch its view. \" Update - it has started working as fine as before. And if you are wondering how? Well then it just too me some relentless taps on the singup then login button. Thanks. 👍6 people found this review helpfulDid you find this helpful?YesNoGeeks LtdOctober 14, 2022A new update of the app is coming soon which fixes this problem. Please bear with us.',\n",
       " \"SUSHILA VISHWAKARMAmore_vert Flag inappropriateShow review historyMarch 26, 2023The spaced repetition function is not working. The same words are appearing too many times in the same day regardless of scheduling them the next day or week or 2 week. It's not working. It is awesome and unbelievable to see word up evolve so much. It's even more fascinating now. But, please do something about the spaced repetition part, it is the core feature of word up.1 person found this review helpfulDid you find this helpful?YesNoGeeks LtdMarch 26, 2023Hello,\\nYour problem needs more detailed examination. Please report it to our technical support team at https://www.wordupapp.co. We are always looking to help our users.\",\n",
       " \"Vedansh Parasharmore_vert Flag inappropriateShow review historyJuly 21, 2020It's the best app out there for learning new words everything is great but can you provide some of the pro features like words from movies and TV shows for free version. And when I want to use these features by choosing to view ads,ads don't run. But I'm really happy to see such an innovative and elegant app with such great features. Please give a thought about some of the pro features for free.((I don't care about ads till they are in limits)) Thankyou...77 people found this review helpfulDid you find this helpful?YesNoGeeks LtdJuly 21, 2020Thank you for your feedback. We are working hard to fix all the issues and make WordUp an absolute pleasure to use. Would you be kind enough to give us 5 stars? It will be a great encouragement for our team's efforts and to do more.\"]"
      ]
     },
     "execution_count": 47,
     "metadata": {},
     "output_type": "execute_result"
    }
   ],
   "source": [
    "#extracting the reviews\n",
    "links=soup.find_all(\"div\",attrs={'class':'EGFGHd'})\n",
    "list_reviews=[]\n",
    "for i in links:\n",
    "    list_reviews.append(i.text)\n",
    "    \n",
    "list_reviews"
   ]
  },
  {
   "cell_type": "code",
   "execution_count": null,
   "id": "b09a5ca6",
   "metadata": {},
   "outputs": [],
   "source": []
  }
 ],
 "metadata": {
  "kernelspec": {
   "display_name": "Python 3",
   "language": "python",
   "name": "python3"
  },
  "language_info": {
   "codemirror_mode": {
    "name": "ipython",
    "version": 3
   },
   "file_extension": ".py",
   "mimetype": "text/x-python",
   "name": "python",
   "nbconvert_exporter": "python",
   "pygments_lexer": "ipython3",
   "version": "3.8.8"
  }
 },
 "nbformat": 4,
 "nbformat_minor": 5
}
